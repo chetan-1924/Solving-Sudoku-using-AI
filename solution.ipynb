{
  "nbformat": 4,
  "nbformat_minor": 0,
  "metadata": {
    "colab": {
      "name": "S20190010129_assignment1.ipynb",
      "provenance": [],
      "collapsed_sections": []
    },
    "kernelspec": {
      "display_name": "Python 3",
      "language": "python",
      "name": "python3"
    },
    "language_info": {
      "codemirror_mode": {
        "name": "ipython",
        "version": 3
      },
      "file_extension": ".py",
      "mimetype": "text/x-python",
      "name": "python",
      "nbconvert_exporter": "python",
      "pygments_lexer": "ipython3",
      "version": "3.8.5"
    }
  },
  "cells": [
    {
      "cell_type": "code",
      "metadata": {
        "id": "glEu_c4ZT30r"
      },
      "source": [
        "import random\n",
        "import numpy as np\n",
        "import parser\n",
        "from math import sin"
      ],
      "execution_count": null,
      "outputs": []
    },
    {
      "cell_type": "code",
      "metadata": {
        "id": "GD_bUq_ddtNF"
      },
      "source": [
        "initialState = [\"x8xxxxx9x\",\n",
        "                \"xx75x28xx\",\n",
        "                \"6xx8x7xx5\",\n",
        "                \"37xx8xx51\",\n",
        "                \"2xxxxxxx8\",\n",
        "                \"95xx4xx32\",\n",
        "                \"8xx1x4xx9\",\n",
        "                \"xx19x36xx\",\n",
        "                \"x4xxxxx2x\"]\n"
      ],
      "execution_count": null,
      "outputs": []
    },
    {
      "cell_type": "code",
      "metadata": {
        "id": "Zof3LTwgmz0P"
      },
      "source": [
        "def suitablenumbers(State,m,n):\n",
        "  set2=set()\n",
        "  set1={1,2,3,4,5,6,7,8,9}\n",
        "\n",
        "  for j in range(0,len(State[m])):\n",
        "    if j==n:\n",
        "      continue\n",
        "    if State[m][j]!='x':\n",
        "      set2.add(int(State[m][j]))  #checking a row\n",
        "\n",
        "  for i in range(0,len(State)):\n",
        "    if i==m:\n",
        "      continue\n",
        "    if State[i][n]!='x':\n",
        "      set2.add(int(State[i][n]))  #checking a column\n",
        "\n",
        "  for i in range((m//3)*3,(m//3)*3+3):\n",
        "    for j in range((n//3)*3,(n//3)*3+3):\n",
        "      if i==m and j==n:\n",
        "        continue\n",
        "      if State[i][j]!='x':\n",
        "       set2.add(int(State[i][j]))  # checking its sub grid \n",
        "\n",
        "  set3 = set1.difference(set2) \n",
        "  if len(set3)==0:\n",
        "    return set1\n",
        "  else: \n",
        "    return set3      "
      ],
      "execution_count": null,
      "outputs": []
    },
    {
      "cell_type": "code",
      "metadata": {
        "id": "G5FdAVQXnekn"
      },
      "source": [
        "def rankingIndividuals(individuals):\n",
        "\n",
        "  def fitness(state):\n",
        "    value=0\n",
        "    for i in range(0,9):\n",
        "      for j in range(0,9):\n",
        "        set1 = suitablenumbers(state,i,j)\n",
        "        if int(state[i][j]) in set1:\n",
        "          value+=1\n",
        "    return value\n",
        "\n",
        "  return sorted([(i,fitness(i)) for i in individuals],key = lambda x:x[1],reverse=True)  \n",
        "\n",
        "def selection(fitvalues):\n",
        "  result=0\n",
        "  for i in range(0,len(fitvalues)):\n",
        "    result+=fitvalues[i][1]\n",
        "  select=[]\n",
        "  for i in range(0,len(fitvalues)):\n",
        "    select.append(int((fitvalues[i][1]/result)*100))\n",
        "\n",
        "  return select    "
      ],
      "execution_count": null,
      "outputs": []
    },
    {
      "cell_type": "code",
      "metadata": {
        "id": "PmYC0FcSpTB1"
      },
      "source": [
        "def crossover(state1,state2):\n",
        "  n = len(state1)\n",
        "  index = random.randint(1,n-2)\n",
        "  state3 = state1[:index] + state2[index:]\n",
        "  state4 = state1[index:] + state2[:index]\n",
        "  return state3,state4"
      ],
      "execution_count": null,
      "outputs": []
    },
    {
      "cell_type": "code",
      "metadata": {
        "id": "J1OtGBe216v1"
      },
      "source": [
        "def mutation(state,threshold=15):\n",
        "  n=0\n",
        "  while True:\n",
        "    index1 = random.randint(0,8)\n",
        "    index2 = random.randint(0,8)\n",
        "    set1 = suitablenumbers(state,index1,index2)\n",
        "    n+=1\n",
        "    if n==threshold:\n",
        "      break\n",
        "    if state[index1][index2] in set1:\n",
        "      continue  \n",
        "    else:\n",
        "      break\n",
        "  index = random.randint(0,len(set1)-1)\n",
        "  state[index1] = state[index1][0:index2]+str(list(set1)[index])+state[index1][index2+1:]"
      ],
      "execution_count": null,
      "outputs": []
    },
    {
      "cell_type": "code",
      "metadata": {
        "id": "Qnu_e4Gy2bqm"
      },
      "source": [
        "def randomStartPopulation(initialState,n):\n",
        "  population=[]\n",
        "  for i in range(0,n):\n",
        "    state = initialState.copy()\n",
        "    for j in range(0,9):\n",
        "      for k in range(0,9):\n",
        "        if initialState[j][k]=='x':\n",
        "          set1 = suitablenumbers(state,j,k)\n",
        "          if len(set1)==1:\n",
        "            index = 0\n",
        "          else:  \n",
        "            index = random.randint(0,len(set1)-1)\n",
        "          state[j] = state[j][0:k]+str(list(set1)[index])+state[j][k+1:]\n",
        "    population.append(state)\n",
        "\n",
        "  return population  "
      ],
      "execution_count": null,
      "outputs": []
    },
    {
      "cell_type": "code",
      "metadata": {
        "colab": {
          "base_uri": "https://localhost:8080/"
        },
        "id": "YUcdJCwa2jkk",
        "outputId": "2273d010-1c60-4e38-da4c-3cd310f4a22b"
      },
      "source": [
        "def randomSelect(select):\n",
        "  index = random.randint(0,100)\n",
        "  i = 0\n",
        "  for i in range(0,len(select)):\n",
        "    index-=select[i]\n",
        "    if index<0:\n",
        "      break\n",
        "  return i    \n",
        "\n",
        "n=10\n",
        "population = randomStartPopulation(initialState,n)\n",
        "new_population = population.copy()\n",
        "\n",
        "x=50\n",
        "final_population = []\n",
        "var=0\n",
        "\n",
        "for i in range(0,x):\n",
        "  ranked_population = rankingIndividuals(new_population)\n",
        "  selections = selection(ranked_population)\n",
        "  next_generation=[]\n",
        "\n",
        "  if ranked_population[0][1]==81:\n",
        "    var=1\n",
        "    print(ranked_population[0][0],ranked_population[0][1])\n",
        "    break\n",
        "\n",
        "  for i in range(0,n//2):\n",
        "    index1 = randomSelect(selections)\n",
        "    index2 = randomSelect(selections)\n",
        "    g1,g2 = crossover(ranked_population[index1][0],ranked_population[index2][0])\n",
        "    next_generation.append(g1)\n",
        "    next_generation.append(g2)\n",
        "\n",
        "  for g in next_generation:\n",
        "    mutation(g)\n",
        "  \n",
        "  new_population = next_generation\n",
        "  final_population = rankingIndividuals(new_population)\n",
        "\n",
        "if var==0:\n",
        "  for i in range(0,5):\n",
        "    print(final_population[i][0],\" fitness value: \",final_population[i][1])\n"
      ],
      "execution_count": null,
      "outputs": [
        {
          "output_type": "stream",
          "text": [
            "['562318429', '734927653', '695745938', '532318429', '734927653', '183637297', '183637297', '798741638', '734925651']  fitness value:  57\n",
            "['535816429', '734927653', '963311427', '183637297', '798741638', '734927651', '532318429', '734927653', '217359924']  fitness value:  56\n",
            "['734927853', '217359924', '183637297', '532318429', '734987653', '183637297', '183637297', '798741638', '734925651']  fitness value:  53\n",
            "['798745938', '183637297', '695745938', '532318429', '734927653', '183637297', '183637297', '798941638', '734925651']  fitness value:  50\n",
            "['734927853', '217359924', '183637297', '698745938', '532318429', '998141638', '562328727', '562318429', '734927853']  fitness value:  47\n"
          ],
          "name": "stdout"
        }
      ]
    },
    {
      "cell_type": "code",
      "metadata": {
        "colab": {
          "base_uri": "https://localhost:8080/"
        },
        "id": "j2e9uNswglBR",
        "outputId": "b69de615-5486-4b4a-ed22-c644bf4f7d10"
      },
      "source": [
        "function = input(\"Enter the function:\")\n",
        "function = function.replace(\"^\",\"**\")\n",
        "i,j = input().split()\n",
        "i = int(i)\n",
        "j = int(j)\n",
        "m = len(bin(j).replace(\"0b\",\"\"))\n",
        "set2 = set(range(i,j+1))\n",
        "\n",
        "#function=\"x**2-2*y+3\"\n",
        "#set2={0,1,2,3,4,5,6,7}"
      ],
      "execution_count": null,
      "outputs": [
        {
          "output_type": "stream",
          "text": [
            "Enter the function:x^2-2*y+3\n",
            "0 7\n"
          ],
          "name": "stdout"
        }
      ]
    },
    {
      "cell_type": "code",
      "metadata": {
        "id": "maiNA4F0vYxN"
      },
      "source": [
        "def intToBin(a,n):\n",
        "  res = bin(a).replace(\"0b\",\"\")\n",
        "  if len(res)==3:\n",
        "    return res\n",
        "  else:\n",
        "    j = n-len(res)\n",
        "    ult=''\n",
        "    for i in range(0,j):\n",
        "      ult+='0'\n",
        "    res = ult+res\n",
        "    return res     \n"
      ],
      "execution_count": null,
      "outputs": []
    },
    {
      "cell_type": "code",
      "metadata": {
        "id": "rhfsA-UJQf3o"
      },
      "source": [
        "def Function(function,x,y):\n",
        "  code = parser.expr(function).compile()\n",
        "  return eval(code)\n",
        "\n",
        "def crossoverFunction(state1,state2,m):\n",
        "  index = random.randint(0,2*m-1)\n",
        "  state3 = state1[index:] + state2[:index]\n",
        "  state4 = state1[:index] + state2[index:]\n",
        "  return state3,state4\n",
        "\n",
        "def mutationFunction(state,m):\n",
        "  index = random.randint(0,2*m-1)\n",
        "  if state[index]=='0':\n",
        "    A='1'\n",
        "  else:  \n",
        "    A='0'\n",
        "  state = state[0:index]+A+state[index+1:]\n",
        "\n",
        "def rankingPopulation(individuals,function,m):\n",
        "  def fitnessFunction(state,function,m):\n",
        "    x = state[:m]\n",
        "    y = state[m:]\n",
        "    x = int(x,2)\n",
        "    y = int(y,2)\n",
        "    return Function(function,x,y)\n",
        "  return sorted([(h,fitnessFunction(h,function,m)) for h in individuals],key = lambda x:x[1])  "
      ],
      "execution_count": null,
      "outputs": []
    },
    {
      "cell_type": "code",
      "metadata": {
        "id": "a9YtIiDJQi-s"
      },
      "source": [
        "def randomStart(n,start,end,m):\n",
        "  population=[]\n",
        "  for i in range(0,n):\n",
        "    x = random.randint(start,end)\n",
        "    y = random.randint(start,end)\n",
        "    res = intToBin(x,m)\n",
        "    ult = intToBin(y,m)\n",
        "    result = res+ult\n",
        "    population.append(result)\n",
        "  return population\n",
        "\n",
        "def randomSelectFunc(n):\n",
        "   return random.randint(0,n//2)"
      ],
      "execution_count": null,
      "outputs": []
    },
    {
      "cell_type": "code",
      "metadata": {
        "colab": {
          "base_uri": "https://localhost:8080/"
        },
        "id": "Na93v3PXx952",
        "outputId": "9608eb25-953d-489f-ae99-60c91fe66c4c"
      },
      "source": [
        "n=10\n",
        "population = randomStart(n,i,j,m)\n",
        "new_population = population.copy()\n",
        "x=50\n",
        "\n",
        "for k in range(0,x):\n",
        "  ranked_population = rankingPopulation(new_population,function,m)\n",
        "  next_generation = []\n",
        "\n",
        "  for l in range(0,n//2):\n",
        "    index1 = randomSelectFunc(n)\n",
        "    index2 = randomSelectFunc(n)\n",
        "    g1,g2 = crossoverFunction(ranked_population[index1][0],ranked_population[index2][0],m)\n",
        "    next_generation.append(g1)\n",
        "    next_generation.append(g2)\n",
        "\n",
        "  for g in next_generation:\n",
        "    mutationFunction(g,m)  \n",
        "\n",
        "  new_population = next_generation.copy()\n",
        "  final_population = rankingPopulation(new_population,function,m)\n",
        "\n",
        "for i in range(0,5):\n",
        "  print(final_population[i][0],\"minimum value: \",final_population[i][1])\n"
      ],
      "execution_count": null,
      "outputs": [
        {
          "output_type": "stream",
          "text": [
            "011111 minimum value:  -2\n",
            "011101 minimum value:  2\n",
            "100111 minimum value:  5\n",
            "101111 minimum value:  14\n",
            "101111 minimum value:  14\n"
          ],
          "name": "stdout"
        }
      ]
    },
    {
      "cell_type": "code",
      "metadata": {
        "id": "Aw4KB_a94v_3"
      },
      "source": [
        ""
      ],
      "execution_count": null,
      "outputs": []
    }
  ]
}